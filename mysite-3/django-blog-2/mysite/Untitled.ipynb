{
 "cells": [
  {
   "cell_type": "code",
   "execution_count": 78,
   "metadata": {},
   "outputs": [],
   "source": [
    "import random\n",
    "\n",
    "def random_die(num):\n",
    "    num_pool = []\n",
    "    while len(num_pool) != 100:\n",
    "        num_pool.append(random.randint(1,int(num)))\n",
    "    # remove this later\n",
    "    print(num_pool, '\\n')\n",
    "    print('average roll \\n', (sum(num_pool) / len(num_pool)))\n",
    "    return random.choice(num_pool)\n",
    "\n",
    "def num_of_rolls(num_of_dies, die):\n",
    "    results = []\n",
    "    for i in range(num_of_dies):\n",
    "        results.append(random_die(die))\n",
    "    print(\"{} d{}s returned {}.\".format(num_of_dies, die, results))"
   ]
  },
  {
   "cell_type": "code",
   "execution_count": 79,
   "metadata": {},
   "outputs": [
    {
     "name": "stdout",
     "output_type": "stream",
     "text": [
      "[18, 1, 18, 10, 12, 19, 6, 4, 17, 6, 2, 20, 20, 4, 19, 8, 5, 12, 3, 13, 1, 16, 8, 20, 18, 2, 4, 11, 19, 4, 8, 17, 1, 19, 8, 14, 9, 7, 2, 2, 18, 13, 14, 13, 14, 19, 1, 2, 17, 15, 14, 5, 3, 9, 18, 6, 13, 14, 20, 13, 1, 4, 13, 1, 13, 12, 5, 1, 7, 11, 19, 6, 2, 13, 14, 12, 1, 9, 6, 10, 9, 11, 5, 7, 8, 9, 11, 14, 4, 18, 7, 16, 13, 16, 2, 15, 3, 18, 12, 17] \n",
      "\n",
      "average roll \n",
      " 10.23\n"
     ]
    },
    {
     "data": {
      "text/plain": [
       "7"
      ]
     },
     "execution_count": 79,
     "metadata": {},
     "output_type": "execute_result"
    }
   ],
   "source": [
    "random_die(20)"
   ]
  },
  {
   "cell_type": "code",
   "execution_count": 80,
   "metadata": {},
   "outputs": [
    {
     "name": "stdout",
     "output_type": "stream",
     "text": [
      "[10, 6, 5, 14, 17, 2, 6, 16, 20, 7, 4, 16, 16, 20, 18, 14, 20, 10, 19, 3, 20, 11, 2, 1, 2, 6, 13, 12, 4, 17, 1, 1, 20, 7, 15, 19, 7, 18, 4, 1, 19, 1, 3, 11, 5, 5, 4, 4, 2, 18, 11, 4, 8, 7, 1, 5, 19, 3, 7, 4, 10, 11, 14, 13, 16, 19, 8, 8, 5, 11, 5, 15, 14, 12, 12, 11, 6, 5, 3, 10, 14, 16, 8, 13, 8, 13, 10, 16, 4, 19, 6, 11, 2, 7, 9, 17, 19, 14, 10, 13] \n",
      "\n",
      "average roll \n",
      " 10.02\n",
      "[5, 20, 11, 12, 16, 16, 13, 5, 6, 20, 15, 8, 13, 15, 7, 18, 2, 12, 11, 19, 7, 16, 19, 19, 16, 14, 14, 18, 19, 9, 9, 8, 10, 3, 5, 10, 4, 15, 19, 11, 4, 14, 20, 11, 3, 4, 11, 5, 16, 5, 3, 3, 11, 9, 17, 9, 12, 7, 15, 10, 13, 12, 2, 15, 8, 19, 19, 16, 4, 11, 17, 9, 7, 4, 17, 7, 12, 6, 14, 4, 9, 1, 3, 17, 18, 3, 13, 19, 11, 11, 4, 10, 15, 17, 17, 2, 11, 18, 19, 3] \n",
      "\n",
      "average roll \n",
      " 11.15\n",
      "2 d20s returned [20, 17].\n"
     ]
    }
   ],
   "source": [
    "num_of_rolls(2, 20)"
   ]
  },
  {
   "cell_type": "code",
   "execution_count": 84,
   "metadata": {},
   "outputs": [
    {
     "name": "stdout",
     "output_type": "stream",
     "text": [
      "[7, 2, 12, 7, 9, 4, 5, 1, 11, 9, 9, 7, 11, 2, 8, 6, 10, 4, 12, 1, 6, 8, 4, 9, 11, 2, 11, 12, 3, 12, 4, 11, 3, 5, 7, 1, 9, 4, 4, 11, 2, 9, 8, 12, 11, 2, 12, 2, 3, 4, 8, 6, 3, 11, 4, 8, 12, 11, 11, 9, 2, 6, 5, 11, 9, 9, 4, 8, 12, 2, 9, 4, 8, 6, 4, 10, 3, 5, 5, 2, 2, 12, 4, 6, 12, 5, 8, 3, 7, 5, 8, 1, 10, 3, 4, 4, 7, 11, 12, 5] \n",
      "\n",
      "average roll \n",
      " 6.75\n",
      "[2, 11, 11, 3, 4, 4, 11, 4, 12, 1, 2, 3, 3, 11, 12, 9, 5, 5, 5, 1, 11, 4, 8, 7, 5, 7, 9, 11, 10, 4, 8, 9, 7, 12, 2, 9, 7, 11, 5, 4, 6, 12, 10, 6, 7, 8, 2, 7, 1, 4, 1, 2, 2, 12, 3, 12, 12, 11, 1, 2, 8, 7, 1, 10, 10, 6, 1, 6, 1, 8, 8, 9, 4, 10, 12, 3, 7, 11, 11, 8, 8, 4, 2, 2, 3, 11, 1, 9, 10, 3, 10, 4, 3, 9, 2, 4, 12, 5, 5, 8] \n",
      "\n",
      "average roll \n",
      " 6.46\n",
      "2 d12s returned [12, 9].\n"
     ]
    }
   ],
   "source": [
    "num_of_rolls(2, 12)"
   ]
  },
  {
   "cell_type": "code",
   "execution_count": null,
   "metadata": {},
   "outputs": [],
   "source": []
  }
 ],
 "metadata": {
  "kernelspec": {
   "display_name": "Python 3",
   "language": "python",
   "name": "python3"
  },
  "language_info": {
   "codemirror_mode": {
    "name": "ipython",
    "version": 3
   },
   "file_extension": ".py",
   "mimetype": "text/x-python",
   "name": "python",
   "nbconvert_exporter": "python",
   "pygments_lexer": "ipython3",
   "version": "3.7.4"
  }
 },
 "nbformat": 4,
 "nbformat_minor": 2
}
